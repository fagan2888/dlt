{
 "cells": [
  {
   "cell_type": "code",
   "execution_count": 1,
   "metadata": {},
   "outputs": [],
   "source": [
    "import matplotlib.pyplot as plt\n",
    "plt.style.use('seaborn-whitegrid')\n",
    "import numpy as np\n",
    "import pandas as pd"
   ]
  },
  {
   "cell_type": "code",
   "execution_count": 2,
   "metadata": {},
   "outputs": [
    {
     "data": {
      "text/plain": [
       "array([0, 1, 2, 3, 4])"
      ]
     },
     "execution_count": 2,
     "metadata": {},
     "output_type": "execute_result"
    }
   ],
   "source": [
    "# be careful here, the last element is never included\n",
    "np.arange(0,5)"
   ]
  },
  {
   "cell_type": "code",
   "execution_count": 3,
   "metadata": {},
   "outputs": [
    {
     "data": {
      "text/plain": [
       "array([                   1,                    2,                    4,\n",
       "                          8,                   16,                   32,\n",
       "                         64,                  128,                  256,\n",
       "                        512,                 1024,                 2048,\n",
       "                       4096,                 8192,                16384,\n",
       "                      32768,                65536,               131072,\n",
       "                     262144,               524288,              1048576,\n",
       "                    2097152,              4194304,              8388608,\n",
       "                   16777216,             33554432,             67108864,\n",
       "                  134217728,            268435456,            536870912,\n",
       "                 1073741824,           2147483648,           4294967296,\n",
       "                 8589934592,          17179869184,          34359738368,\n",
       "                68719476736,         137438953472,         274877906944,\n",
       "               549755813888,        1099511627776,        2199023255552,\n",
       "              4398046511104,        8796093022208,       17592186044416,\n",
       "             35184372088832,       70368744177664,      140737488355328,\n",
       "            281474976710656,      562949953421312,     1125899906842624,\n",
       "           2251799813685248,     4503599627370496,     9007199254740992,\n",
       "          18014398509481984,    36028797018963968,    72057594037927936,\n",
       "         144115188075855872,   288230376151711744,   576460752303423488,\n",
       "        1152921504606846976,  2305843009213693952,  4611686018427387904,\n",
       "       -9223372036854775808,                    0])"
      ]
     },
     "execution_count": 3,
     "metadata": {},
     "output_type": "execute_result"
    }
   ],
   "source": [
    "# first notice how this leads to an overflow (without any warning)\n",
    "np.power(2, np.arange(0,65))"
   ]
  },
  {
   "cell_type": "code",
   "execution_count": 30,
   "metadata": {},
   "outputs": [
    {
     "name": "stdout",
     "output_type": "stream",
     "text": [
      "1.157920892373162e+77\n",
      "25000000000000.0\n",
      "4.631683569492648e+63\n",
      "30.219280948873624\n"
     ]
    },
    {
     "data": {
      "text/plain": [
       "858993.4592"
      ]
     },
     "execution_count": 30,
     "metadata": {},
     "output_type": "execute_result"
    }
   ],
   "source": [
    "# the chess legend...\n",
    "# 1 rice grain on the first field,\n",
    "# 2 rice grains on the second field,\n",
    "# 4 rice grains on the third field\n",
    "# ...\n",
    "\n",
    "# a chess board has 64 fields\n",
    "# how many rice corns are on the field\n",
    "\n",
    "grains = np.sum(np.power(2.0, np.arange(0,256)))\n",
    "print(grains)\n",
    "\n",
    "# 1 kg of rice approx 50000 grains\n",
    "# number of metrix tons needed\n",
    "# a modern supership can transport approx. 20000 TEU, each filled with 25 tons of rice...\n",
    "# How many grains are on a supership?\n",
    "n = 20000*25*1000*50000.0\n",
    "print(n)\n",
    "print(grains/n)\n",
    "\n",
    "print(np.log2(50000*1000*25))\n",
    "np.power(2.0,34)/20000"
   ]
  },
  {
   "cell_type": "markdown",
   "metadata": {},
   "source": [
    "I guess it's fair to say that powers of $2$ grow very fast. This is exponential growth in practice...\n",
    "We would need approximately $750000$ superships, each packed with $20000$ containers, each container packed with $25$ tons of rice.\n",
    "\n",
    "Annual production of rice in tons is $700 000 000$\n",
    "We would produce for the next 500 years at the current rate..."
   ]
  },
  {
   "cell_type": "code",
   "execution_count": 5,
   "metadata": {},
   "outputs": [
    {
     "data": {
      "text/plain": [
       "527.0498306774158"
      ]
     },
     "execution_count": 5,
     "metadata": {},
     "output_type": "execute_result"
    }
   ],
   "source": [
    "(np.power(2.0, 64) - 1)/(50000*1000*700000000)"
   ]
  },
  {
   "cell_type": "code",
   "execution_count": 6,
   "metadata": {},
   "outputs": [
    {
     "name": "stdout",
     "output_type": "stream",
     "text": [
      "15\n",
      "0xf\n"
     ]
    }
   ],
   "source": [
    "grains = np.power(2,4)-1\n",
    "print(grains)\n",
    "print(hex(grains))"
   ]
  },
  {
   "cell_type": "code",
   "execution_count": 7,
   "metadata": {},
   "outputs": [],
   "source": [
    "integer = int('affe', 16)"
   ]
  },
  {
   "cell_type": "code",
   "execution_count": 8,
   "metadata": {},
   "outputs": [
    {
     "data": {
      "text/plain": [
       "45054"
      ]
     },
     "execution_count": 8,
     "metadata": {},
     "output_type": "execute_result"
    }
   ],
   "source": [
    "bin(integer)\n",
    "hex(integer)\n",
    "integer"
   ]
  },
  {
   "cell_type": "code",
   "execution_count": 9,
   "metadata": {},
   "outputs": [],
   "source": [
    "frame = pd.DataFrame(index=np.arange(0,16))\n",
    "frame[\"binary\"] = pd.Series({a : format(a, '0>4b') for a in frame.index})\n",
    "frame[\"hexadecimal\"] = pd.Series({a: format(a, '0>1x') for a in frame.index})"
   ]
  },
  {
   "cell_type": "code",
   "execution_count": 10,
   "metadata": {},
   "outputs": [
    {
     "data": {
      "text/html": [
       "<div>\n",
       "<style scoped>\n",
       "    .dataframe tbody tr th:only-of-type {\n",
       "        vertical-align: middle;\n",
       "    }\n",
       "\n",
       "    .dataframe tbody tr th {\n",
       "        vertical-align: top;\n",
       "    }\n",
       "\n",
       "    .dataframe thead th {\n",
       "        text-align: right;\n",
       "    }\n",
       "</style>\n",
       "<table border=\"1\" class=\"dataframe\">\n",
       "  <thead>\n",
       "    <tr style=\"text-align: right;\">\n",
       "      <th></th>\n",
       "      <th>binary</th>\n",
       "      <th>hexadecimal</th>\n",
       "    </tr>\n",
       "  </thead>\n",
       "  <tbody>\n",
       "    <tr>\n",
       "      <th>0</th>\n",
       "      <td>0000</td>\n",
       "      <td>0</td>\n",
       "    </tr>\n",
       "    <tr>\n",
       "      <th>1</th>\n",
       "      <td>0001</td>\n",
       "      <td>1</td>\n",
       "    </tr>\n",
       "    <tr>\n",
       "      <th>2</th>\n",
       "      <td>0010</td>\n",
       "      <td>2</td>\n",
       "    </tr>\n",
       "    <tr>\n",
       "      <th>3</th>\n",
       "      <td>0011</td>\n",
       "      <td>3</td>\n",
       "    </tr>\n",
       "    <tr>\n",
       "      <th>4</th>\n",
       "      <td>0100</td>\n",
       "      <td>4</td>\n",
       "    </tr>\n",
       "    <tr>\n",
       "      <th>5</th>\n",
       "      <td>0101</td>\n",
       "      <td>5</td>\n",
       "    </tr>\n",
       "    <tr>\n",
       "      <th>6</th>\n",
       "      <td>0110</td>\n",
       "      <td>6</td>\n",
       "    </tr>\n",
       "    <tr>\n",
       "      <th>7</th>\n",
       "      <td>0111</td>\n",
       "      <td>7</td>\n",
       "    </tr>\n",
       "    <tr>\n",
       "      <th>8</th>\n",
       "      <td>1000</td>\n",
       "      <td>8</td>\n",
       "    </tr>\n",
       "    <tr>\n",
       "      <th>9</th>\n",
       "      <td>1001</td>\n",
       "      <td>9</td>\n",
       "    </tr>\n",
       "    <tr>\n",
       "      <th>10</th>\n",
       "      <td>1010</td>\n",
       "      <td>a</td>\n",
       "    </tr>\n",
       "    <tr>\n",
       "      <th>11</th>\n",
       "      <td>1011</td>\n",
       "      <td>b</td>\n",
       "    </tr>\n",
       "    <tr>\n",
       "      <th>12</th>\n",
       "      <td>1100</td>\n",
       "      <td>c</td>\n",
       "    </tr>\n",
       "    <tr>\n",
       "      <th>13</th>\n",
       "      <td>1101</td>\n",
       "      <td>d</td>\n",
       "    </tr>\n",
       "    <tr>\n",
       "      <th>14</th>\n",
       "      <td>1110</td>\n",
       "      <td>e</td>\n",
       "    </tr>\n",
       "    <tr>\n",
       "      <th>15</th>\n",
       "      <td>1111</td>\n",
       "      <td>f</td>\n",
       "    </tr>\n",
       "  </tbody>\n",
       "</table>\n",
       "</div>"
      ],
      "text/plain": [
       "   binary hexadecimal\n",
       "0    0000           0\n",
       "1    0001           1\n",
       "2    0010           2\n",
       "3    0011           3\n",
       "4    0100           4\n",
       "5    0101           5\n",
       "6    0110           6\n",
       "7    0111           7\n",
       "8    1000           8\n",
       "9    1001           9\n",
       "10   1010           a\n",
       "11   1011           b\n",
       "12   1100           c\n",
       "13   1101           d\n",
       "14   1110           e\n",
       "15   1111           f"
      ]
     },
     "execution_count": 10,
     "metadata": {},
     "output_type": "execute_result"
    }
   ],
   "source": [
    "frame"
   ]
  },
  {
   "cell_type": "code",
   "execution_count": 11,
   "metadata": {},
   "outputs": [],
   "source": [
    "# It's trivial to convert any hashcode into a binary or decimal form...\n"
   ]
  },
  {
   "cell_type": "code",
   "execution_count": 12,
   "metadata": {},
   "outputs": [],
   "source": [
    "# age of the universe in seconds\n",
    "# number of atoms in the universe \n",
    "# operations the world-fastest supercomputer can perform per second 200 petaflops = 200 * 10^15\n"
   ]
  },
  {
   "cell_type": "code",
   "execution_count": 13,
   "metadata": {},
   "outputs": [],
   "source": [
    "# Every integer can be represented as binary, hexadecimal or decimal number. A hashcode is a hexadecimal number...\n",
    "# In fact, it's fair to say that typcially a hashcode is a large hexadecimal number.\n",
    "# Nevertheless, the range of possible hashcodes is finite! \n",
    "# So collisions do exist.\n",
    "# It's just very hard to find them. If you find them, we should write a paper together...\n",
    "# It's trivial to compute the hashcode of any given string... \n",
    "# It's kind of impossible to do the inverse (which does not exist as mapping is not injective) but find one string that results in that hashcode\n",
    "# You would have to apply brute force\n",
    "# We are very interested in the problem of finding a hashcode below a given threshold, that problem is already hard enough...\n",
    "# All collisions for simpler hash functions have been found using a birthday attack...\n",
    "\n"
   ]
  }
 ],
 "metadata": {
  "kernelspec": {
   "display_name": "Python 3",
   "language": "python",
   "name": "python3"
  },
  "language_info": {
   "codemirror_mode": {
    "name": "ipython",
    "version": 3
   },
   "file_extension": ".py",
   "mimetype": "text/x-python",
   "name": "python",
   "nbconvert_exporter": "python",
   "pygments_lexer": "ipython3",
   "version": "3.7.3"
  },
  "pycharm": {
   "stem_cell": {
    "cell_type": "raw",
    "metadata": {
     "collapsed": false
    },
    "source": []
   }
  }
 },
 "nbformat": 4,
 "nbformat_minor": 2
}
